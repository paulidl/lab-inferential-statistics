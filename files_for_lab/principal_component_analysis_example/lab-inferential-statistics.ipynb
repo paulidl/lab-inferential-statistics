{
 "cells": [
  {
   "cell_type": "markdown",
   "id": "84e62823",
   "metadata": {},
   "source": [
    "# Lab | Inferential statistics\n",
    "## Instructions\n",
    "\n",
    "1. It is assumed that the mean systolic blood pressure is `μ = 120 mm Hg`. In the Honolulu Heart Study, a sample of `n = 100` people had an average systolic blood pressure of `130.1 mm Hg` with a standard deviation of `21.21 mm Hg`. Is the group significantly different (with respect to systolic blood pressure!) from the regular population?\n",
    "\n",
    "    * Set up the hypothesis test.\n",
    "    * Write down all the steps followed for setting up the test.\n",
    "    * Calculate the test statistic by hand and also code it in Python. It should be 4.76190. We will take a look at how to make decisions based on this calculated value.\n",
    "    \n",
    "\n",
    "2. If you finished the previous question, please go through the code for `principal_component_analysis_example` provided in the `files_for_lab folder`."
   ]
  },
  {
   "cell_type": "code",
   "execution_count": null,
   "id": "56c874dd",
   "metadata": {},
   "outputs": [],
   "source": [
    "import math"
   ]
  },
  {
   "cell_type": "markdown",
   "id": "0aaa31bc",
   "metadata": {},
   "source": [
    "### 1. Is the group significantly different (with respect to systolic blood pressure!) from the regular population?"
   ]
  },
  {
   "cell_type": "code",
   "execution_count": 37,
   "id": "c3c7e949",
   "metadata": {},
   "outputs": [],
   "source": [
    "population_mean = 120\n",
    "n = 100\n",
    "sample_mean = 130.1\n",
    "sample_std = 21.21\n",
    "\n",
    "df = n-1    #degree of freedom\n",
    "\n",
    "se = sample_std/math.sqrt(n)    # standard error"
   ]
  },
  {
   "cell_type": "markdown",
   "id": "5bb9bdb1",
   "metadata": {},
   "source": [
    "#### Calculating our t-statistics"
   ]
  },
  {
   "cell_type": "code",
   "execution_count": 40,
   "id": "2a2e6f37",
   "metadata": {},
   "outputs": [
    {
     "name": "stdout",
     "output_type": "stream",
     "text": [
      "The test statistic is:  4.761904761904759\n"
     ]
    }
   ],
   "source": [
    "statistic = (sample_mean - population_mean)/se\n",
    "print(\"The test statistic is: \", statistic)"
   ]
  },
  {
   "cell_type": "markdown",
   "id": "1ce4026a",
   "metadata": {},
   "source": [
    "**The test statistic value of 4.76 being > t.95=1.660 rejects the Null Hypothesis with a p-value of 5%. So it would be very suprisingly, if the diseased patients would have the same low mean systolic blood pressure.**"
   ]
  },
  {
   "cell_type": "markdown",
   "id": "2a24ab7c",
   "metadata": {},
   "source": [
    "### 2. If you finished the previous question, please go through the code for `principal_component_analysis_example` provided in the `files_for_lab folder`."
   ]
  }
 ],
 "metadata": {
  "kernelspec": {
   "display_name": "Python 3 (ipykernel)",
   "language": "python",
   "name": "python3"
  },
  "language_info": {
   "codemirror_mode": {
    "name": "ipython",
    "version": 3
   },
   "file_extension": ".py",
   "mimetype": "text/x-python",
   "name": "python",
   "nbconvert_exporter": "python",
   "pygments_lexer": "ipython3",
   "version": "3.9.12"
  }
 },
 "nbformat": 4,
 "nbformat_minor": 5
}
